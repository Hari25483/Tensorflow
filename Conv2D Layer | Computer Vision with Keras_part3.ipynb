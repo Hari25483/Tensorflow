{
 "cells": [
  {
   "cell_type": "code",
   "execution_count": 1,
   "metadata": {},
   "outputs": [],
   "source": [
    "import tensorflow as tf\n",
    "import keras\n",
    "from keras import layers\n",
    "import cv2"
   ]
  },
  {
   "cell_type": "code",
   "execution_count": 2,
   "metadata": {},
   "outputs": [],
   "source": [
    "# pip install opencv-python"
   ]
  },
  {
   "cell_type": "code",
   "execution_count": 3,
   "metadata": {},
   "outputs": [],
   "source": [
    "img=cv2.imread(\"cat.jpeg\",cv2.IMREAD_GRAYSCALE)\n",
    "img=cv2.resize(img,(224,224))\n",
    "height,width=img.shape"
   ]
  },
  {
   "cell_type": "code",
   "execution_count": 16,
   "metadata": {},
   "outputs": [
    {
     "name": "stdout",
     "output_type": "stream",
     "text": [
      "Model: \"sequential_1\"\n",
      "_________________________________________________________________\n",
      " Layer (type)                Output Shape              Param #   \n",
      "=================================================================\n",
      " conv2d_1 (Conv2D)           (None, 218, 218, 64)      3200      \n",
      "                                                                 \n",
      "=================================================================\n",
      "Total params: 3,200\n",
      "Trainable params: 3,200\n",
      "Non-trainable params: 0\n",
      "_________________________________________________________________\n"
     ]
    }
   ],
   "source": [
    "model=keras.Sequential()\n",
    "model.add(layers.Conv2D(input_shape=(height,width,1),filters=64,kernel_size=(7,7)))\n",
    "model.summary()"
   ]
  },
  {
   "cell_type": "code",
   "execution_count": 17,
   "metadata": {},
   "outputs": [
    {
     "name": "stdout",
     "output_type": "stream",
     "text": [
      "(7, 7, 1, 64)\n"
     ]
    }
   ],
   "source": [
    "filters,_=model.layers[0].get_weights()\n",
    "print(filters.shape)"
   ]
  },
  {
   "cell_type": "code",
   "execution_count": 18,
   "metadata": {},
   "outputs": [
    {
     "name": "stdout",
     "output_type": "stream",
     "text": [
      "[[[-0.01841129]\n",
      "  [ 0.00408986]\n",
      "  [-0.0210937 ]\n",
      "  [ 0.00059787]\n",
      "  [-0.00364966]\n",
      "  [-0.00899341]\n",
      "  [ 0.02415107]]\n",
      "\n",
      " [[ 0.01053375]\n",
      "  [ 0.0124043 ]\n",
      "  [ 0.04006072]\n",
      "  [-0.01886708]\n",
      "  [ 0.0315907 ]\n",
      "  [ 0.01494527]\n",
      "  [ 0.03415504]]\n",
      "\n",
      " [[ 0.01709887]\n",
      "  [-0.03188841]\n",
      "  [-0.01180242]\n",
      "  [ 0.02078046]\n",
      "  [-0.02887964]\n",
      "  [-0.01113477]\n",
      "  [ 0.03227403]]\n",
      "\n",
      " [[ 0.01173456]\n",
      "  [-0.03608022]\n",
      "  [-0.00114511]\n",
      "  [ 0.03727134]\n",
      "  [ 0.00837224]\n",
      "  [ 0.01185184]\n",
      "  [ 0.00966233]]\n",
      "\n",
      " [[ 0.00074083]\n",
      "  [-0.01515905]\n",
      "  [ 0.01036003]\n",
      "  [ 0.00691317]\n",
      "  [-0.02810558]\n",
      "  [-0.04140459]\n",
      "  [ 0.03765878]]\n",
      "\n",
      " [[ 0.03665243]\n",
      "  [-0.02080479]\n",
      "  [-0.00390361]\n",
      "  [ 0.04214494]\n",
      "  [ 0.02570805]\n",
      "  [-0.01067909]\n",
      "  [-0.01554079]]\n",
      "\n",
      " [[ 0.00978115]\n",
      "  [ 0.00799114]\n",
      "  [-0.02381235]\n",
      "  [-0.02592222]\n",
      "  [ 0.03414332]\n",
      "  [ 0.03783889]\n",
      "  [-0.03975351]]]\n"
     ]
    }
   ],
   "source": [
    "f=filters[:,:,:,0]\n",
    "print(f)"
   ]
  },
  {
   "cell_type": "code",
   "execution_count": null,
   "metadata": {},
   "outputs": [],
   "source": []
  },
  {
   "cell_type": "code",
   "execution_count": 13,
   "metadata": {},
   "outputs": [
    {
     "name": "stdout",
     "output_type": "stream",
     "text": [
      "-0.10115449 0.10126725\n"
     ]
    }
   ],
   "source": [
    "f_min, f_max=filters.min(), filters.max()\n",
    "print(f_min,f_max)\n",
    "filters=(filters-f_min)/(f_max-f_min)"
   ]
  },
  {
   "cell_type": "code",
   "execution_count": 19,
   "metadata": {},
   "outputs": [
    {
     "ename": "KeyboardInterrupt",
     "evalue": "",
     "output_type": "error",
     "traceback": [
      "\u001b[0;31m---------------------------------------------------------------------------\u001b[0m",
      "\u001b[0;31mKeyboardInterrupt\u001b[0m                         Traceback (most recent call last)",
      "Cell \u001b[0;32mIn[19], line 3\u001b[0m\n\u001b[1;32m      1\u001b[0m cv2\u001b[39m.\u001b[39mresize(f,(\u001b[39m250\u001b[39m,\u001b[39m250\u001b[39m),interpolation\u001b[39m=\u001b[39mcv2\u001b[39m.\u001b[39mINTER_NEAREST)\n\u001b[1;32m      2\u001b[0m cv2\u001b[39m.\u001b[39mimshow(\u001b[39m\"\u001b[39m\u001b[39mFilters\u001b[39m\u001b[39m\"\u001b[39m,f)\n\u001b[0;32m----> 3\u001b[0m cv2\u001b[39m.\u001b[39;49mwaitKey(\u001b[39m0\u001b[39;49m)\n",
      "\u001b[0;31mKeyboardInterrupt\u001b[0m: "
     ]
    }
   ],
   "source": [
    "cv2.resize(f,(250,250),interpolation=cv2.INTER_NEAREST)\n",
    "cv2.imshow(\"Filters\",f)\n",
    "cv2.waitKey(0)"
   ]
  },
  {
   "cell_type": "code",
   "execution_count": null,
   "metadata": {},
   "outputs": [],
   "source": [
    "for i in range(3):\n",
    "    f=filters[:,:,:,i]\n",
    "    print(f)\n",
    "    cv2.resize(f,(250,250),interpolation=cv2.INTER_NEAREST)\n",
    "    cv2.imshow(\"Filters\",f)\n",
    "cv2.waitKey(0)\n",
    "    "
   ]
  },
  {
   "cell_type": "code",
   "execution_count": 32,
   "metadata": {},
   "outputs": [
    {
     "name": "stdout",
     "output_type": "stream",
     "text": [
      "1/1 [==============================] - 0s 10ms/step\n",
      "[[[[ 1.83699856e+01 -1.63840771e+01  5.37293100e+00 ... -4.54036980e+01\n",
      "    -2.79766197e+01  3.40359521e+00]\n",
      "   [ 1.82660866e+01 -1.61882477e+01  5.77137709e+00 ... -4.49785385e+01\n",
      "    -2.82008095e+01  3.40777588e+00]\n",
      "   [ 1.75423908e+01 -1.54659252e+01  6.14135981e+00 ... -4.42506371e+01\n",
      "    -2.81538353e+01  3.48461771e+00]\n",
      "   ...\n",
      "   [ 7.75230312e+00 -5.40357018e+00  2.91930842e+00 ... -1.59327431e+01\n",
      "    -1.22436857e+01  1.85547471e-01]\n",
      "   [ 7.22333574e+00 -5.52292585e+00  2.88066673e+00 ... -1.58193645e+01\n",
      "    -1.22572851e+01 -2.86359310e-01]\n",
      "   [ 7.04538298e+00 -6.88700390e+00  2.49783707e+00 ... -1.60901375e+01\n",
      "    -1.18347349e+01 -1.62525520e-01]]\n",
      "\n",
      "  [[ 1.83249073e+01 -1.54378519e+01  2.24031162e+00 ... -4.32594376e+01\n",
      "    -2.74192772e+01  1.73621750e+00]\n",
      "   [ 1.83744087e+01 -1.58255186e+01  3.42850757e+00 ... -4.36018982e+01\n",
      "    -2.73205376e+01  2.28357005e+00]\n",
      "   [ 1.80061073e+01 -1.59938383e+01  3.90721154e+00 ... -4.40920944e+01\n",
      "    -2.72366657e+01  2.79104567e+00]\n",
      "   ...\n",
      "   [ 7.40959120e+00 -5.24022913e+00  2.60661721e+00 ... -1.55132561e+01\n",
      "    -1.21360750e+01  2.30071738e-01]\n",
      "   [ 6.78071547e+00 -5.48091555e+00  2.52865195e+00 ... -1.57645035e+01\n",
      "    -1.20686445e+01 -1.66327938e-01]\n",
      "   [ 6.93539667e+00 -6.30434275e+00  2.29786897e+00 ... -1.61846619e+01\n",
      "    -1.19262524e+01 -3.70060056e-02]]\n",
      "\n",
      "  [[ 1.88984947e+01 -1.46759090e+01 -2.12727830e-01 ... -3.90615311e+01\n",
      "    -2.72274723e+01 -1.59639657e-01]\n",
      "   [ 1.85521183e+01 -1.47015257e+01  3.28783810e-01 ... -4.00760117e+01\n",
      "    -2.70916862e+01  5.90244591e-01]\n",
      "   [ 1.81780624e+01 -1.47797670e+01  1.13183618e+00 ... -4.10561943e+01\n",
      "    -2.69990292e+01  1.31121147e+00]\n",
      "   ...\n",
      "   [ 7.47579718e+00 -5.42697620e+00  2.44046831e+00 ... -1.55298023e+01\n",
      "    -1.20853615e+01 -5.37469834e-02]\n",
      "   [ 7.18776274e+00 -5.44017076e+00  2.43730402e+00 ... -1.57699471e+01\n",
      "    -1.21079340e+01  4.78134811e-01]\n",
      "   [ 6.95993471e+00 -5.51508045e+00  2.36064076e+00 ... -1.59503794e+01\n",
      "    -1.19933453e+01  2.20333502e-01]]\n",
      "\n",
      "  ...\n",
      "\n",
      "  [[ 4.89314222e+00 -4.09076071e+00  1.02092648e+00 ... -1.06211491e+01\n",
      "    -8.04576588e+00  3.88429433e-01]\n",
      "   [ 4.82931089e+00 -4.16661501e+00  1.00354564e+00 ... -1.05924349e+01\n",
      "    -7.98388386e+00  4.15518343e-01]\n",
      "   [ 4.81202030e+00 -4.05681181e+00  8.30590785e-01 ... -1.06293917e+01\n",
      "    -7.91337013e+00  4.58443373e-01]\n",
      "   ...\n",
      "   [ 6.50500059e+00 -5.52537870e+00  1.54934752e+00 ... -1.42974167e+01\n",
      "    -1.10176182e+01  8.21703315e-01]\n",
      "   [ 6.23626471e+00 -5.47104883e+00  1.43818319e+00 ... -1.41358585e+01\n",
      "    -1.06831646e+01  6.29968047e-01]\n",
      "   [ 6.34888172e+00 -5.57963657e+00  1.12459385e+00 ... -1.36528807e+01\n",
      "    -1.01093445e+01  5.71741462e-01]]\n",
      "\n",
      "  [[ 4.87916183e+00 -3.81489992e+00  1.14595520e+00 ... -1.03149147e+01\n",
      "    -7.69214153e+00  3.96127671e-01]\n",
      "   [ 4.67823792e+00 -3.88099480e+00  1.15091908e+00 ... -1.03885279e+01\n",
      "    -7.56697178e+00  3.67331177e-01]\n",
      "   [ 4.59310341e+00 -3.93712044e+00  1.10510731e+00 ... -1.02734337e+01\n",
      "    -7.64439583e+00  3.95066142e-01]\n",
      "   ...\n",
      "   [ 6.36517239e+00 -5.47174835e+00  1.55456817e+00 ... -1.41075659e+01\n",
      "    -1.08422365e+01  7.32592583e-01]\n",
      "   [ 6.28028679e+00 -5.42392635e+00  1.37174833e+00 ... -1.38674221e+01\n",
      "    -1.07522812e+01  6.12064004e-01]\n",
      "   [ 6.09844398e+00 -5.40022326e+00  1.11866367e+00 ... -1.35677214e+01\n",
      "    -1.01521416e+01  4.86176878e-01]]\n",
      "\n",
      "  [[ 4.60673666e+00 -3.79395247e+00  9.53722894e-01 ... -1.00311127e+01\n",
      "    -7.62911129e+00  3.23689908e-01]\n",
      "   [ 4.61381054e+00 -3.98045444e+00  9.71057236e-01 ... -1.00670424e+01\n",
      "    -7.47484779e+00  3.37262899e-01]\n",
      "   [ 4.52464962e+00 -3.98902988e+00  1.00518680e+00 ... -1.00042477e+01\n",
      "    -7.56330776e+00  1.50544912e-01]\n",
      "   ...\n",
      "   [ 6.27881479e+00 -5.50626183e+00  1.60629928e+00 ... -1.41994200e+01\n",
      "    -1.05752068e+01  5.65713525e-01]\n",
      "   [ 6.14964819e+00 -5.43003082e+00  1.57006848e+00 ... -1.37590961e+01\n",
      "    -1.05899363e+01  5.08820713e-01]\n",
      "   [ 6.15883064e+00 -5.33904743e+00  1.21353316e+00 ... -1.36668072e+01\n",
      "    -1.00549717e+01  5.89194477e-01]]]]\n"
     ]
    },
    {
     "ename": "error",
     "evalue": "OpenCV(4.7.0) /Users/xperience/GHA-OCV-Python/_work/opencv-python/opencv-python/opencv/modules/core/src/matrix_c.cpp:190: error: (-5:Bad argument) Unknown array type in function 'cvarrToMat'\n",
     "output_type": "error",
     "traceback": [
      "\u001b[0;31m---------------------------------------------------------------------------\u001b[0m",
      "\u001b[0;31merror\u001b[0m                                     Traceback (most recent call last)",
      "Cell \u001b[0;32mIn[32], line 5\u001b[0m\n\u001b[1;32m      2\u001b[0m img1\u001b[39m=\u001b[39mmodel\u001b[39m.\u001b[39mpredict(np\u001b[39m.\u001b[39marray(cv2\u001b[39m.\u001b[39mresize(img,(\u001b[39m224\u001b[39m,\u001b[39m224\u001b[39m))\u001b[39m.\u001b[39mreshape(\u001b[39m1\u001b[39m,\u001b[39m224\u001b[39m,\u001b[39m224\u001b[39m,\u001b[39m1\u001b[39m)))\n\u001b[1;32m      3\u001b[0m \u001b[39mprint\u001b[39m(img1)\n\u001b[0;32m----> 5\u001b[0m cv2\u001b[39m.\u001b[39;49mimshow(\u001b[39m\"\u001b[39;49m\u001b[39mpredcited\u001b[39;49m\u001b[39m\"\u001b[39;49m,img1)\n\u001b[1;32m      6\u001b[0m cv2\u001b[39m.\u001b[39mwaitKey(\u001b[39m0\u001b[39m)\n",
      "\u001b[0;31merror\u001b[0m: OpenCV(4.7.0) /Users/xperience/GHA-OCV-Python/_work/opencv-python/opencv-python/opencv/modules/core/src/matrix_c.cpp:190: error: (-5:Bad argument) Unknown array type in function 'cvarrToMat'\n"
     ]
    }
   ],
   "source": [
    "import numpy as np\n",
    "img1=model.predict(np.array(cv2.resize(img,(224,224)).reshape(1,224,224,1)))\n",
    "print(img1)\n",
    "\n",
    "cv2.imshow(\"predcited_img\",img1)\n",
    "cv2.waitKey(0)"
   ]
  },
  {
   "cell_type": "code",
   "execution_count": null,
   "metadata": {},
   "outputs": [],
   "source": []
  }
 ],
 "metadata": {
  "kernelspec": {
   "display_name": "pytorch_env",
   "language": "python",
   "name": "python3"
  },
  "language_info": {
   "codemirror_mode": {
    "name": "ipython",
    "version": 3
   },
   "file_extension": ".py",
   "mimetype": "text/x-python",
   "name": "python",
   "nbconvert_exporter": "python",
   "pygments_lexer": "ipython3",
   "version": "3.10.9"
  },
  "orig_nbformat": 4
 },
 "nbformat": 4,
 "nbformat_minor": 2
}
